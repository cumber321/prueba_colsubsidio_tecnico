{
 "cells": [
  {
   "cell_type": "code",
   "execution_count": null,
   "id": "cd005209",
   "metadata": {},
   "outputs": [],
   "source": [
    "import pandas as pd\n",
    "from tabulate import tabulate # Tener encuenta que si no tienes la librería tabulate debes instalarla con pip install tabulate"
   ]
  },
  {
   "cell_type": "code",
   "execution_count": null,
   "id": "61311bd1",
   "metadata": {},
   "outputs": [],
   "source": [
    "## Colocar la ruta de los archivos de la prueba\n",
    "ruta_base = r\"C:\\Users\\ANDECUMO\\Documents\\01 INFORMACIÓN PERSONAL\\prueba\\Prueba 5\\Prueba\\Data\""
   ]
  },
  {
   "cell_type": "code",
   "execution_count": 3,
   "id": "e221c9ce",
   "metadata": {},
   "outputs": [],
   "source": [
    "## Leer los archivos CSV con la codificación 'latin1'\n",
    "empresa_df = pd.read_csv(ruta_base + r\"\\Empresa.csv\", sep=';', encoding='latin1')\n",
    "persona_df = pd.read_csv(ruta_base + r\"\\Persona.csv\", sep=';', encoding='latin1')\n",
    "consumo_df = pd.read_csv(ruta_base + r\"\\Consumo.csv\", sep=';', encoding='latin1')\n",
    "## Realice cambios en la  columna 'Valor' a tipo float, reemplazando comas por puntos\n",
    "\n",
    "consumo_df['Valor'] = consumo_df['Valor'].astype(str).str.replace(',', '.').astype(float)"
   ]
  },
  {
   "cell_type": "code",
   "execution_count": null,
   "id": "d35b382c",
   "metadata": {},
   "outputs": [],
   "source": [
    "print(\"¿Existen temporadas de mayor venta de productos?\")\n",
    "\n",
    "# realice la agrupación de \"periodo, ues, producto\" \n",
    "ventas_por_periodo = consumo_df.groupby(['Periodo', 'UES', 'Producto'])['Valor'].sum().reset_index()\n",
    "\n",
    "# Encontrar el índice de la fila con la venta máxima por periodo y UES\n",
    "indices_maximos = ventas_por_periodo.groupby(['Periodo', 'UES'])['Valor'].idxmax()\n",
    "\n",
    "# Obtener las filas con las ventas máximas por periodo y UES\n",
    "ventas_maximas_por_periodo = ventas_por_periodo.loc[indices_maximos]\n",
    "\n",
    "# Ordenar el DataFrame por 'Periodo' y 'UES' para una mejor presentación\n",
    "ventas_maximas_por_periodo = ventas_maximas_por_periodo.sort_values(by=['Periodo', 'UES'], ascending=False)\n",
    "\n",
    "# Formatear la columna 'Valor' como moneda\n",
    "ventas_maximas_por_periodo['Valor'] = ventas_maximas_por_periodo['Valor'].map(lambda x: f\"${x:,.2f}\")\n",
    "\n",
    "print(ventas_maximas_por_periodo.to_string(index=False))\n"
   ]
  },
  {
   "cell_type": "code",
   "execution_count": null,
   "id": "cfd8dcff",
   "metadata": {},
   "outputs": [],
   "source": [
    "print(\"cual es la participación de consumo de personas afiliadas y no afiliadas\")\n",
    "# Rellenar los valores nulos en la columna 'UES' con \"SIN UES\"\n",
    "consumo_df['UES'] = consumo_df['UES'].fillna(\"SIN UES\")\n",
    "\n",
    "# Personas afiliadas: están en consumo_df y en persona_df\n",
    "personas_afiliadas = consumo_df[consumo_df['NumIdPersona'].isin(persona_df['NumIdPersona'])]['NumIdPersona'].unique()\n",
    "#  Personas no afiliadas: están en consumo_df pero no en persona_df\n",
    "personas_no_afiliadas = consumo_df[~consumo_df['NumIdPersona'].isin(persona_df['NumIdPersona'])]['NumIdPersona'].unique()\n",
    "\n",
    "# Calcular el total de personas que consumieron\n",
    "total_personas_consumo = consumo_df['NumIdPersona'].nunique()\n",
    "\n",
    "# Calcular los porcentajes\n",
    "porcentaje_afiliadas = (len(personas_afiliadas) / total_personas_consumo) * 100\n",
    "porcentaje_no_afiliadas = (len(personas_no_afiliadas) / total_personas_consumo) * 100\n",
    "\n",
    "# Resultados de afiliados y no afiliados \n",
    "print(f\"Porcentaje de personas afiliadas que consumieron: {porcentaje_afiliadas:.2f}%\")\n",
    "print(f\"Porcentaje de personas no afiliadas que consumieron: {porcentaje_no_afiliadas:.2f}%\")\n"
   ]
  },
  {
   "cell_type": "code",
   "execution_count": null,
   "id": "5bb53a51",
   "metadata": {},
   "outputs": [],
   "source": [
    "print(\"¿Cuál es el consumo total por unidad de negocio?\")\n",
    "\n",
    "# Calcular el consumo total por UES\n",
    "consumo_total_por_ues = consumo_df.groupby('UES')['Valor'].sum().reset_index()\n",
    "\n",
    "# Ordenar el DataFrame por la columna 'Valor' de mayor a menor\n",
    "consumo_total_por_ues = consumo_total_por_ues.sort_values(by='Valor', ascending=False)\n",
    "\n",
    "# Formatear la columna 'Valor' como moneda\n",
    "consumo_total_por_ues['Valor'] = consumo_total_por_ues['Valor'].map(lambda x: f\"${x:,.2f}\")\n",
    "# Imprimir el resultado en formato tabulado\n",
    "print(\"Estos son los valores de las unidades de negocio (UES):\")\n",
    "print(consumo_total_por_ues.to_string(index=False))"
   ]
  },
  {
   "cell_type": "code",
   "execution_count": null,
   "id": "d995990c",
   "metadata": {},
   "outputs": [],
   "source": [
    "print(\"¿Cuáles son las unidades y productos de mayor uso en cada categoría??\")\n",
    "\n",
    "# agrupamos UES y Producto, y contar la frecuencia\n",
    "uso_por_ues_producto = consumo_df.groupby(['UES', 'Producto']).size().reset_index(name='Frecuencia')\n",
    "\n",
    "# total total de registros por UES\n",
    "total_por_ues = consumo_df.groupby('UES').size().reset_index(name='Total_UES')\n",
    "\n",
    "# DataFrames para calcular el porcentaje de frecuencia por UES\n",
    "uso_por_ues_producto = pd.merge(uso_por_ues_producto, total_por_ues, on='UES', how='left')\n",
    "uso_por_ues_producto['% Mayor-Uso'] = (uso_por_ues_producto['Frecuencia'] / uso_por_ues_producto['Total_UES']) * 100\n",
    "\n",
    "# Redondear a 3 decimales\n",
    "uso_por_ues_producto['% Mayor-Uso'] = uso_por_ues_producto['% Mayor-Uso'].round(3)\n",
    "\n",
    "# Identificar el producto más usado por cada UES, solo dejar valores unicos.\n",
    "uso_por_ues_producto_sorted = uso_por_ues_producto.sort_values(by='Frecuencia', ascending=False)\n",
    "producto_mas_usado_por_ues = uso_por_ues_producto_sorted.drop_duplicates(subset=['UES'])\n",
    "\n",
    "#salida como una tabla\n",
    "tabla_resultados = producto_mas_usado_por_ues[['UES', 'Producto', '% Mayor-Uso']]\n",
    "tabla_resultados.columns = ['UES', 'Producto', '% Mayor-Uso'] \n",
    "\n",
    "# Mostrar la tabla\n",
    "print(tabulate(tabla_resultados, headers='keys', tablefmt='pretty', showindex=False))\n"
   ]
  },
  {
   "cell_type": "code",
   "execution_count": null,
   "id": "348e0ee6",
   "metadata": {},
   "outputs": [],
   "source": [
    "print (\"Identifique los clientes (afiliados y no afiliados) con mayor frecuencia de uso y mayor valor neto de venta.\")\n",
    "\n",
    "# Identificar si un cliente es afiliado o no afiliado\n",
    "consumo_df['Tipo_Cliente'] = consumo_df['NumIdPersona'].isin(persona_df['NumIdPersona']).map({True: 'Afiliado', False: 'No Afiliado'})\n",
    "\n",
    "# Calcular la frecuencia de uso y el valor neto de venta por cliente\n",
    "clientes_analisis = consumo_df.groupby(['NumIdPersona', 'Tipo_Cliente']).agg(\n",
    "    Frecuencia=('Valor', 'size'), \n",
    "    Valor_Neto=('Valor', 'sum')   \n",
    ").reset_index()\n",
    "\n",
    "# Identificar los clientes con mayor frecuencia de uso\n",
    "clientes_mayor_frecuencia = clientes_analisis.sort_values(by='Frecuencia', ascending=False).head(30)\n",
    "\n",
    "# Identificar los clientes con mayor valor neto de venta\n",
    "clientes_mayor_valor = clientes_analisis.sort_values(by='Valor_Neto', ascending=False).head(30)\n",
    "\n",
    "# convertir valor en moneda\n",
    "clientes_mayor_frecuencia['Valor_Neto'] = clientes_mayor_frecuencia['Valor_Neto'].map(lambda x: f\"${x:,.2f}\")\n",
    "clientes_mayor_valor['Valor_Neto'] = clientes_mayor_valor['Valor_Neto'].map(lambda x: f\"${x:,.2f}\")\n",
    "\n",
    "# Mistrar los reultados\n",
    "print(\"Clientes con mayor frecuencia de uso:\")\n",
    "print(tabulate(clientes_mayor_frecuencia, headers='keys', tablefmt='pretty', showindex=False))\n",
    "\n",
    "print(\"\\nClientes con mayor valor neto de venta (ordenados de mayor a menor):\")\n",
    "print(tabulate(clientes_mayor_valor, headers='keys', tablefmt='pretty', showindex=False))"
   ]
  }
 ],
 "metadata": {
  "kernelspec": {
   "display_name": "Python 3",
   "language": "python",
   "name": "python3"
  },
  "language_info": {
   "codemirror_mode": {
    "name": "ipython",
    "version": 3
   },
   "file_extension": ".py",
   "mimetype": "text/x-python",
   "name": "python",
   "nbconvert_exporter": "python",
   "pygments_lexer": "ipython3",
   "version": "3.13.2"
  }
 },
 "nbformat": 4,
 "nbformat_minor": 5
}
